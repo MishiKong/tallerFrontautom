{
 "cells": [
  {
   "cell_type": "markdown",
   "metadata": {},
   "source": [
    "Taller solo front\n",
    "Asignatura: Programacion de aplicaciones\n",
    "Docente: Jose Veas\n",
    "Integrantes: Matias Barraza - Juan Otazo - Sergio Meneses"
   ]
  },
  {
   "cell_type": "markdown",
   "metadata": {},
   "source": [
    "# Estructura de la Documentación\n",
    "|Introducción\n",
    "\n",
    "|Requisitos del Sistema\n",
    "\n",
    "|Instalación\n",
    "\n",
    "|Cómo Probar el Sistema\n",
    "\n",
    "|Uso del Sistema\n",
    "\n",
    "|Arquitectura y Diseño\n",
    "\n",
    "|Contribución\n",
    "\n",
    "|Licencia y Créditos\n"
   ]
  },
  {
   "cell_type": "markdown",
   "metadata": {},
   "source": [
    "# 1. Introducción\n",
    "## Sistema de Autómata Finito\n",
    "\n",
    "Este sistema permite crear, visualizar y validar autómatas finitos. Los usuarios pueden definir estados, transiciones, y probar si una cadena es aceptada por el autómata creado.\n"
   ]
  },
  {
   "cell_type": "markdown",
   "metadata": {},
   "source": [
    "# 2. Requisitos del Sistema\n",
    "## Requisitos del Sistema\n",
    "\n",
    "- Navegador web moderno (Chrome, Firefox, Edge, Safari)\n",
    "- Conexión a internet para cargar bibliotecas de terceros (si aplica)\n"
   ]
  },
  {
   "cell_type": "markdown",
   "metadata": {},
   "source": [
    "# 3. Instalación\n",
    "## Instalación\n",
    "\n",
    "1. Clona este repositorio en tu máquina local:\n",
    "\n",
    "    git clone https://github.com/MishiKong/tallerFrontautom.git\n",
    "\n",
    "2. Navega al directorio del proyecto:\n",
    "\n",
    "    cd carpeta-del-proyecto\n",
    "\n",
    "3. Abre el archivo `index.html` en tu navegador para comenzar a usar el sistema.\n",
    "\n",
    "Nota: No se requieren dependencias adicionales para la ejecución. Todo el sistema está basado en HTML, CSS y JavaScript.\n"
   ]
  },
  {
   "cell_type": "markdown",
   "metadata": {},
   "source": [
    "# 4. Cómo Probar el Sistema\n",
    "## Cómo Probar el Sistema\n",
    "\n",
    "1. Abre el archivo `index.html` en tu navegador.\n",
    "2. Verás un formulario donde puedes ingresar:\n",
    "    - Los estados del autómata (por ejemplo, `q0, q1, q2`)\n",
    "    - El estado inicial (por ejemplo, `q0`)\n",
    "    - Los estados finales (por ejemplo, `q2`)\n",
    "    - Las transiciones entre estados (por ejemplo, `q0,a,q1; q1,b,q2`)\n",
    "3. Haz clic en \"Generar Automáta\" para visualizar el autómata.\n",
    "4. Prueba una cadena de entrada en el campo de validación para verificar si es aceptada o rechazada por el autómata.\n",
    "5. Tambien existe el modo manual, donde usando el mouse y clickeando la pantalla se agregan los automatas.\n",
    "6. El formulario final es para darle transiciones, desde y hasta a los automatas manuales."
   ]
  },
  {
   "cell_type": "markdown",
   "metadata": {},
   "source": [
    "# 5. Uso del Sistema\n",
    "## Uso del Sistema\n",
    "\n",
    "1. **Generar Autómata**:\n",
    "    - Ingresa los estados, el estado inicial, los estados finales y las transiciones.\n",
    "    - Haz clic en \"Generar Autómata\" para ver una representación visual del autómata.\n",
    "\n",
    "2. **Validar Cadena**:\n",
    "    - Ingresa una cadena en el campo de texto \"Cadena a validar\".\n",
    "    - Haz clic en \"Validar\" para ver si la cadena es aceptada o rechazada por el autómata.\n",
    "\n",
    "3. **Modo Manual**:\n",
    "    - Haz clic en \"Activar Modo Manual\" para crear estados y transiciones de forma interactiva.\n",
    "    - Haz clic en el área de trabajo para crear nuevos estados.\n",
    "    - Usa los botones para cambiar el tipo de estado y sus transiciones.\n",
    "    - Al presionar los botones de estado inicial y final debes presionar justo sobre el nombre del estado (q0).\n",
    "    - Al presionar el boton de las transiciones debe presionar justo sobre el nombre del estado de inicio, luego del final y por ultimo ingresar el símbolo del estado.\n",
    "\n"
   ]
  },
  {
   "cell_type": "markdown",
   "metadata": {},
   "source": [
    "# 6. Arquitectura y Diseño\n",
    "## Arquitectura y Diseño\n",
    "\n",
    "- **Frontend**:\n",
    "    - HTML: Para la estructura de la página.\n",
    "    - CSS: Para el diseño visual y los estilos.\n",
    "    - JavaScript: Para la lógica del autómata y la interacción con el usuario.\n",
    "\n",
    "- **Estructura del Código**:\n",
    "    - El código JavaScript está dividido en funciones que permiten generar el autómata, agregar transiciones, validar cadenas y gestionar el modo manual.\n",
    "    - Se utiliza un sistema de eventos en el DOM para actualizar la interfaz cuando el usuario interactúa con el sistema.\n"
   ]
  },
  {
   "cell_type": "markdown",
   "metadata": {},
   "source": [
    "# 7. Link GitHub\n",
    "## Repositorio\n",
    "\n",
    "1. https://github.com/MishiKong/tallerFrontautom.git.\n"
   ]
  }
 ],
 "metadata": {
  "language_info": {
   "name": "python"
  }
 },
 "nbformat": 4,
 "nbformat_minor": 2
}
